{
  "nbformat": 4,
  "nbformat_minor": 0,
  "metadata": {
    "colab": {
      "provenance": []
    },
    "kernelspec": {
      "name": "python3",
      "display_name": "Python 3"
    },
    "language_info": {
      "name": "python"
    }
  },
  "cells": [
    {
      "cell_type": "markdown",
      "source": [
        "Prep the notebook for running R"
      ],
      "metadata": {
        "id": "N5Ea8Do67Njn"
      }
    },
    {
      "cell_type": "code",
      "execution_count": null,
      "metadata": {
        "id": "XrqziQ7k4-CG"
      },
      "outputs": [],
      "source": [
        "# Install correct version of rpy2\n",
        "!pip install rpy2==3.5.1\n",
        "\n",
        "# Load rpy2 module to enable R command execution\n",
        "%load_ext rpy2.ipython\n",
        "\n",
        "%R install.packages('data.table')\n",
        "%R install.packages('foreach')\n",
        "%R install.packages('ggplot2')"
      ]
    },
    {
      "cell_type": "markdown",
      "source": [
        "Tell the notebook to run a cell's contents within `R` by starting the cell with `%%R`"
      ],
      "metadata": {
        "id": "WNaxmqet6iA7"
      }
    },
    {
      "cell_type": "code",
      "source": [
        "%%R\n",
        "library(data.table)\n",
        "library(foreach)\n",
        "\n",
        "dat <- data.table(colA=1:10, colB=21:30, colC=LETTERS[1:10])\n",
        "dat"
      ],
      "metadata": {
        "id": "VU1Yox6veTWp",
        "colab": {
          "base_uri": "https://localhost:8080/"
        },
        "outputId": "d84329d1-4895-43af-c720-fa3f56ccbf16"
      },
      "execution_count": 10,
      "outputs": [
        {
          "output_type": "stream",
          "name": "stdout",
          "text": [
            "    colA colB colC\n",
            " 1:    1   21    A\n",
            " 2:    2   22    B\n",
            " 3:    3   23    C\n",
            " 4:    4   24    D\n",
            " 5:    5   25    E\n",
            " 6:    6   26    F\n",
            " 7:    7   27    G\n",
            " 8:    8   28    H\n",
            " 9:    9   29    I\n",
            "10:   10   30    J\n"
          ]
        }
      ]
    },
    {
      "cell_type": "code",
      "source": [],
      "metadata": {
        "id": "hWaF-pKu68RG"
      },
      "execution_count": null,
      "outputs": []
    }
  ]
}
